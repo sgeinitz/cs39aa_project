{
 "cells": [
  {
   "cell_type": "markdown",
   "source": [
    "Read and clean data"
   ],
   "metadata": {
    "collapsed": false
   }
  },
  {
   "cell_type": "code",
   "execution_count": 2,
   "outputs": [],
   "source": [
    "import matplotlib\n",
    "import matplotlib.pyplot as plt\n",
    "import pandas as pd\n",
    "from nltk.tokenize import word_tokenize\n",
    "import seaborn as sns\n",
    "from nltk.corpus import stopwords\n",
    "from collections import  Counter\n",
    "import torch\n",
    "from torch import nn\n",
    "\n",
    "# Data pre-processing from part 1\n",
    "df = pd.read_csv('nytimes_news.csv') # Load the dataset from a CSV\n",
    "df = df.dropna(subset =['title', 'maintext']) # remove entries where the title or maintext are missing.\n",
    "df = df.drop(columns=['Unnamed: 0','date_download','date_modify','date_publish','authors','filename','image_url','localpath','title_rss','source_domain','url','site','title_page'])\n",
    "df = df.drop_duplicates(subset=['maintext'])"
   ],
   "metadata": {
    "collapsed": false,
    "pycharm": {
     "name": "#%%\n"
    }
   }
  },
  {
   "cell_type": "markdown",
   "source": [
    "Tokenization, Train/Validation Split, Vocabulary list"
   ],
   "metadata": {
    "collapsed": false
   }
  },
  {
   "cell_type": "code",
   "execution_count": 3,
   "metadata": {
    "collapsed": true
   },
   "outputs": [
    {
     "name": "stdout",
     "output_type": "stream",
     "text": [
      "df_train.shape: (8700, 8)\n",
      "df_test.shape: (2319, 8)\n"
     ]
    }
   ],
   "source": [
    "\n",
    "# Tokenize article text\n",
    "df['raw_tokens'] = df['maintext'].apply(lambda x: word_tokenize(x.lower()))\n",
    "\n",
    "chars2remove = set(['.','!','/', '?', '\\'', ','])\n",
    "\n",
    "df['tokens'] = df['raw_tokens'].apply(lambda x: [w for w in x if w not in chars2remove])\n",
    "\n",
    "# Tokenize title text\n",
    "df['raw_title_tokens'] = df['title'].apply(lambda x: word_tokenize(x.lower()))\n",
    "df['title_tokens'] = df['raw_title_tokens'].apply(lambda x: [w for w in x if w not in chars2remove])\n",
    "\n",
    "#  Split train and validation sets\n",
    "import random\n",
    "random.seed(42)\n",
    "\n",
    "df_full = df.copy()\n",
    "assert df_full.shape[0] == 10819\n",
    "\n",
    "indices = list(range(df_full.shape[0]))\n",
    "\n",
    "random.shuffle(indices)\n",
    "\n",
    "train_indices = indices[:8700]\n",
    "test_indices = indices[8500:]\n",
    "\n",
    "# df_train will be the in-sample training dataset\n",
    "df_train = df_full.iloc[train_indices,:].copy()\n",
    "\n",
    "# df_test will be the out-of-sample validation dataset\n",
    "df_test = df_full.iloc[test_indices,:].copy()\n",
    "\n",
    "# Create Vocab\n",
    "def create_vocab_list(tokens_column):\n",
    "    vocab = dict()\n",
    "    for word_tokens in tokens_column:\n",
    "        for token in word_tokens:\n",
    "            if token not in vocab:\n",
    "                vocab[token] = 1\n",
    "            else:\n",
    "                vocab[token] += 1\n",
    "    return vocab\n",
    "\n",
    "vocab_all = dict(sorted(create_vocab_list(df['tokens']).items(), key=lambda item: item[1], reverse=True))"
   ]
  },
  {
   "cell_type": "markdown",
   "source": [
    "Define Model"
   ],
   "metadata": {
    "collapsed": false
   }
  },
  {
   "cell_type": "code",
   "execution_count": 4,
   "outputs": [
    {
     "ename": "AttributeError",
     "evalue": "module 'torch.nn' has no attribute 'Model'",
     "output_type": "error",
     "traceback": [
      "\u001B[0;31m---------------------------------------------------------------------------\u001B[0m",
      "\u001B[0;31mAttributeError\u001B[0m                            Traceback (most recent call last)",
      "Cell \u001B[0;32mIn [4], line 1\u001B[0m\n\u001B[0;32m----> 1\u001B[0m \u001B[38;5;28;01mclass\u001B[39;00m \u001B[38;5;21;01mModel\u001B[39;00m(\u001B[43mnn\u001B[49m\u001B[38;5;241;43m.\u001B[39;49m\u001B[43mModel\u001B[49m):\n\u001B[1;32m      2\u001B[0m     \u001B[38;5;28;01mdef\u001B[39;00m \u001B[38;5;21m__init__\u001B[39m(\u001B[38;5;28mself\u001B[39m, input_size, output_size, hidden_dim, n_layers):\n\u001B[1;32m      4\u001B[0m         \u001B[38;5;28mself\u001B[39m\u001B[38;5;241m.\u001B[39mhidden_dim \u001B[38;5;241m=\u001B[39m hidden_dim\n",
      "\u001B[0;31mAttributeError\u001B[0m: module 'torch.nn' has no attribute 'Model'"
     ]
    }
   ],
   "source": [
    "class Model(nn.Module):\n",
    "    def __init__(self, input_size, output_size, hidden_dim, n_layers):\n",
    "\n",
    "        self.hidden_dim = hidden_dim\n",
    "        self.n_layers = n_layers\n",
    "\n",
    "        # Define layers\n",
    "        #self.encoder = nn.TransformerEncoder(input_size, output_size)\n",
    "        #self.decoder = nn.TransformerDecoder(input_size, output_size)\n",
    "        # Multiple layers of rnn at once\n",
    "        self.rnn = nn.RNN(input_size, hidden_dim, n_layers, batch_first=True)\n",
    "        # Fully Connected Layer\n",
    "        self.fc = nn.Linear(hidden_dim, output_size)\n",
    "\n",
    "    def forward(self, x):\n",
    "\n",
    "        batch_size = x.size(0)\n",
    "    # initialize hidden state\n",
    "        hidden = self.init_hidden(batch_size)\n",
    "\n",
    "        out, hidden = self.rnn(x, hidden)\n",
    "\n",
    "        out = out.contiguous().view(-1, self.hidden_dim)\n",
    "        out = self.fc(out)\n",
    "\n",
    "        return out, hidden\n",
    "\n",
    "    def init_hidden(self, batch_size):\n",
    "\n",
    "        # This method generates the first hidden state of zeros which we'll use in the forward pass\n",
    "        # We'll send the tensor holding the hidden state to the device we specified earlier as well\n",
    "        hidden = torch.zeros(self.n_layers, batch_size, self.hidden_dim)\n",
    "        return hidden"
   ],
   "metadata": {
    "collapsed": false,
    "pycharm": {
     "name": "#%%\n"
    }
   }
  }
 ],
 "metadata": {
  "kernelspec": {
   "display_name": "Python 3",
   "language": "python",
   "name": "python3"
  },
  "language_info": {
   "codemirror_mode": {
    "name": "ipython",
    "version": 2
   },
   "file_extension": ".py",
   "mimetype": "text/x-python",
   "name": "python",
   "nbconvert_exporter": "python",
   "pygments_lexer": "ipython2",
   "version": "2.7.6"
  }
 },
 "nbformat": 4,
 "nbformat_minor": 0
}